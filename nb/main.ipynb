{
 "cells": [
  {
   "cell_type": "code",
   "execution_count": 1,
   "metadata": {
    "ExecuteTime": {
     "end_time": "2020-03-20T06:52:20.285883Z",
     "start_time": "2020-03-20T06:52:20.270871Z"
    }
   },
   "outputs": [],
   "source": [
    "#export\n",
    "import sys\n",
    "if __name__ == '__main__': sys.path.append('..')\n",
    "import download_youtube_subtitle.common as common\n",
    "from pprint import pprint\n",
    "def pj(*args, **kargs):\n",
    "    if common.IN_JUPYTER:\n",
    "        pprint(*args, **kargs)\n",
    "        \n",
    "from functools import partial\n",
    "import sys\n",
    "\n",
    "perr = partial(print, \"ERR: \")"
   ]
  },
  {
   "cell_type": "code",
   "execution_count": 2,
   "metadata": {
    "ExecuteTime": {
     "end_time": "2020-03-20T06:52:20.577211Z",
     "start_time": "2020-03-20T06:52:20.288863Z"
    }
   },
   "outputs": [],
   "source": [
    "#export\n",
    "import requests\n",
    "import socket\n",
    "socket.setdefaulttimeout(5.)"
   ]
  },
  {
   "cell_type": "code",
   "execution_count": 3,
   "metadata": {
    "ExecuteTime": {
     "end_time": "2020-03-20T06:52:20.592837Z",
     "start_time": "2020-03-20T06:52:20.577211Z"
    }
   },
   "outputs": [],
   "source": [
    "#export\n",
    "# dealing with xml.dom\n",
    "def getVal(dom, key):\n",
    "    att = dom.attributes[key]\n",
    "    return att.value\n",
    "\n",
    "def eachTxt(txt):\n",
    "    start = getVal(txt, 'start')\n",
    "    dur = getVal(txt, 'dur')\n",
    "    txt = html.unescape((txt.firstChild.data))\n",
    "    return {\n",
    "        \"start\":start, \n",
    "        \"dur\": dur,\n",
    "        \"text\": txt\n",
    "    }"
   ]
  },
  {
   "cell_type": "code",
   "execution_count": 4,
   "metadata": {
    "ExecuteTime": {
     "end_time": "2020-03-20T06:52:20.624098Z",
     "start_time": "2020-03-20T06:52:20.592837Z"
    }
   },
   "outputs": [],
   "source": [
    "#export\n",
    "# todo \n",
    "# add tlang=zh-Hans to baseUrl\n",
    "# will get translation\n",
    "\n",
    "# getting track info\n",
    "\n",
    "def get_data(link):\n",
    "    data = requests.get(link)\n",
    "    data = data.text\n",
    "    return data\n",
    "\n",
    "import re\n",
    "import json\n",
    "import urllib\n",
    "def get_tracks_title(data):\n",
    "    decodedData = urllib.parse.unquote(data)\n",
    "    if 'captionTracks' not in decodedData:\n",
    "        perr(\"no caption available. ;(\")\n",
    "        exit(1)\n",
    "    match = re.search(r'({\"captionTracks\":.*isTranslatable\":(true|false)}])', decodedData)\n",
    "    match = match.group(1)\n",
    "    match = f\"{match}}}\"\n",
    "    captionTracks =  json.loads(match)['captionTracks']\n",
    "    match = re.search(r'title\":\"(.*?)\",\"lengthSeconds\":', decodedData)\n",
    "    title = match.group(1)\n",
    "    return captionTracks, title"
   ]
  },
  {
   "cell_type": "code",
   "execution_count": 5,
   "metadata": {
    "ExecuteTime": {
     "end_time": "2020-03-20T06:52:20.644246Z",
     "start_time": "2020-03-20T06:52:20.629256Z"
    }
   },
   "outputs": [],
   "source": [
    "#export\n",
    "# dealing with transcript\n",
    "import math\n",
    "from functools import partial\n",
    "import sys\n",
    "from xml.dom.minidom import parseString\n",
    "import html\n",
    "def parseTranscript(transcript):\n",
    "    try:\n",
    "        dom = parseString(transcript.text)\n",
    "    except :\n",
    "        perr(\"check your lang code\")\n",
    "        perr(\"server response\")\n",
    "        perr(transcript.text)\n",
    "        exit(1)\n",
    "    texts = dom.getElementsByTagName('text')\n",
    "    texts = list(map( eachTxt, texts,))\n",
    "    return texts \n",
    "\n",
    "def each_sent(o, file=sys.stdout):\n",
    "    start = o['start']\n",
    "    start = float(start)\n",
    "    minute = math.floor(start/60)\n",
    "    second = math.floor(start%60)\n",
    "    p = partial(print, file=file)\n",
    "    p(f\"---------{minute:02d}:{second:02d}----------\")\n",
    "    p(o['text'])\n",
    "    translate_text = o.get('translate_text', None)\n",
    "    if translate_text:\n",
    "        p(translate_text)\n",
    "   "
   ]
  },
  {
   "cell_type": "code",
   "execution_count": 6,
   "metadata": {
    "ExecuteTime": {
     "end_time": "2020-03-20T06:52:20.690226Z",
     "start_time": "2020-03-20T06:52:20.648243Z"
    }
   },
   "outputs": [],
   "source": [
    "#export\n",
    "# dealing with valid filename\n",
    "# https://github.com/django/django/blob/master/django/utils/text.py\n",
    "import re\n",
    "def get_valid_filename(s):\n",
    "    \"\"\"\n",
    "    Return the given string converted to a string that can be used for a clean\n",
    "    filename. Remove leading and trailing spaces; convert other spaces to\n",
    "    underscores; and remove anything that is not an alphanumeric, dash,\n",
    "    underscore, or dot.\n",
    "    >>> get_valid_filename(\"john's portrait in 2004.jpg\")\n",
    "    'johns_portrait_in_2004.jpg'\n",
    "    \"\"\"\n",
    "    s = str(s).strip().replace(' ', '_')\n",
    "    return re.sub(r'(?u)[^-\\w.]', '', s)"
   ]
  },
  {
   "cell_type": "code",
   "execution_count": 7,
   "metadata": {
    "ExecuteTime": {
     "end_time": "2020-03-20T06:52:20.743005Z",
     "start_time": "2020-03-20T06:52:20.694208Z"
    }
   },
   "outputs": [],
   "source": [
    "#export\n",
    "import copy\n",
    "def merge_subtitle(subtitle, subtitle_cn):\n",
    "    \"\"\"\n",
    "    cc and translated cc aren't always align, \n",
    "    I found at least in cn and ja, translated cc are less than cc\n",
    "    see  videoID='HSz7Q4YnQ_M'\n",
    "    \"\"\"\n",
    "    subtitle = copy.deepcopy(subtitle)\n",
    "    slow_p = 0\n",
    "    for sub in subtitle_cn:\n",
    "        while sub['start'] != subtitle[slow_p]['start']:\n",
    "            slow_p += 1\n",
    "        subtitle[slow_p]['translate_text'] = sub['text']\n",
    "    return subtitle"
   ]
  },
  {
   "cell_type": "code",
   "execution_count": 8,
   "metadata": {
    "ExecuteTime": {
     "end_time": "2020-03-20T06:52:35.197874Z",
     "start_time": "2020-03-20T06:52:20.747003Z"
    }
   },
   "outputs": [],
   "source": [
    "#test_export\n",
    "videoID='HSz7Q4YnQ_M'\n",
    "data_link=f\"https://youtube.com/get_video_info?video_id={videoID}\"\n",
    "data=get_data(data_link)\n",
    "captionTracks, title = get_tracks_title(data)\n",
    "baseUrl = captionTracks[0]['baseUrl']\n",
    "transcript = requests.get(baseUrl)\n",
    "subtitle = parseTranscript(transcript)\n",
    "# baseUrl = captionTracks[0]['baseUrl'] + '&tlang=zh-Hans'\n",
    "baseUrl = captionTracks[0]['baseUrl'] + '&tlang=ja'\n",
    "# baseUrl = captionTracks[0]['baseUrl'] + '&tlang=jp' # wrong lang code\n",
    "transcript = requests.get(baseUrl)\n",
    "subtitle_cn = parseTranscript(transcript)\n",
    "subtitle = merge_subtitle(subtitle, subtitle_cn)"
   ]
  },
  {
   "cell_type": "code",
   "execution_count": 25,
   "metadata": {
    "ExecuteTime": {
     "end_time": "2020-03-20T07:05:17.834873Z",
     "start_time": "2020-03-20T07:05:17.829875Z"
    }
   },
   "outputs": [],
   "source": [
    "#export\n",
    "def format_caption(caption):\n",
    "    ret = f\"{caption['vssId']:8s} {caption['name']['simpleText']}\"\n",
    "    if 'a.' in caption['vssId']:\n",
    "        ret += ' automatically generated by youtube'\n",
    "    return ret"
   ]
  },
  {
   "cell_type": "code",
   "execution_count": 10,
   "metadata": {
    "ExecuteTime": {
     "end_time": "2020-03-20T06:52:35.242774Z",
     "start_time": "2020-03-20T06:52:35.207793Z"
    }
   },
   "outputs": [
    {
     "name": "stdout",
     "output_type": "stream",
     "text": [
      "save to  SilentVoiceKoenoKatachiYamadaandtheUnspoken.txt\n"
     ]
    }
   ],
   "source": [
    "#test_export\n",
    "output_file = get_valid_filename(f'{title}.txt')\n",
    "with open(output_file , 'w', encoding='UTF-8') as f:\n",
    "    print(\"save to \", output_file)\n",
    "    for sent in subtitle:\n",
    "        each_sent(sent, file=f)\n"
   ]
  },
  {
   "cell_type": "code",
   "execution_count": 24,
   "metadata": {
    "ExecuteTime": {
     "end_time": "2020-03-17T01:53:33.330164Z",
     "start_time": "2020-03-17T01:53:33.301196Z"
    },
    "deletable": false,
    "editable": false,
    "run_control": {
     "frozen": true
    }
   },
   "outputs": [],
   "source": [
    "import json\n",
    "decodedData = urllib.parse.unquote(data)\n",
    "match = re.search(r'translationLanguages\":', decodedData)\n",
    "match2 = re.search(r'defaultAudioTrackIndex', decodedData)\n",
    "lang_code = decodedData[match.span()[1] : match2.span()[0]-2]\n",
    "lang_code =  json.loads(lang_code)\n",
    "with open('../lang_code.json', 'w', encoding='UTF-8') as f:\n",
    "    json.dump(lang_code, f, indent=4, ensure_ascii=False)"
   ]
  },
  {
   "cell_type": "code",
   "execution_count": 11,
   "metadata": {
    "ExecuteTime": {
     "end_time": "2020-03-20T06:52:35.263759Z",
     "start_time": "2020-03-20T06:52:35.248770Z"
    }
   },
   "outputs": [],
   "source": [
    "#export\n",
    "def parseVideoID(videoID):\n",
    "    if 'youtu' in videoID:\n",
    "        videoID = re.search('v=([^&]+)', videoID).group(1)\n",
    "        \n",
    "    video_link = f'https://www.youtube.com/watch?v={videoID}'\n",
    "    data_link=f\"https://youtube.com/get_video_info?video_id={videoID}\"\n",
    "    return videoID, video_link, data_link"
   ]
  },
  {
   "cell_type": "code",
   "execution_count": 12,
   "metadata": {
    "ExecuteTime": {
     "end_time": "2020-03-20T06:52:35.278751Z",
     "start_time": "2020-03-20T06:52:35.267757Z"
    }
   },
   "outputs": [],
   "source": [
    "#test_export\n",
    "videoID = 'https://www.youtube.com/watch?v=5tKOV0KqPlg'\n",
    "videoID, video_link, data_link = parseVideoID(videoID)\n",
    "videoID = '5tKOV0KqPlg'\n",
    "assert (videoID, video_link, data_link) == parseVideoID(videoID)"
   ]
  },
  {
   "cell_type": "code",
   "execution_count": 13,
   "metadata": {
    "ExecuteTime": {
     "end_time": "2020-03-20T06:52:35.377776Z",
     "start_time": "2020-03-20T06:52:35.281747Z"
    }
   },
   "outputs": [],
   "source": [
    "#export\n",
    "import fire\n",
    "import sys\n",
    "from functools import partial\n",
    "import json\n",
    "import re\n",
    "def main(videoID, output_file=None, save_to_file=True, translation='zh-Hans', to_json=False, caption_num=0):\n",
    "    \"\"\"\n",
    "    download youtube closed caption(subtitles) by videoID\n",
    "    \n",
    "    Examples:\n",
    "    dl-youtube-cc -h # to see this helpful infomation\n",
    "    dl-youtube-cc 5tKOV0KqPlg --save_to_file=False # print stuff in console\n",
    "    dl-youtube-cc 5tKOV0KqPlg --output_file='test.txt' # print stuff in named file\n",
    "    dl-youtube-cc 5tKOV0KqPlg --to_json=True # print stuff in json\n",
    "    dl-youtube-cc 5tKOV0KqPlg --translation 'ja' # use japanese translation, see ./lang_code for full list\n",
    "    dl-youtube-cc 5tKOV0KqPlg --translation False # without translation\n",
    "    dl-youtube-cc 5tKOV0KqPlg --caption_num=1 # choose the caption num\n",
    "    \n",
    "    Argument:\n",
    "    videoID: string, the id of youtube video, the string after 'v=' in a youtube video link\n",
    "    output_file: string, default to vidio title\n",
    "    save_to_file: bool, default to True, True or False \n",
    "    translation: bool or string, default to 'zh-Hans' for simplified Chinese, False or lang code, see ./lang_code.json for full list\n",
    "    to_json: bool, default to False, export caption to json\n",
    "    caption_num: number, default to 0, choose the caption\n",
    "    \n",
    "    \"\"\"\n",
    "    \n",
    "    videoID, video_link, data_link = parseVideoID(videoID)\n",
    "    data=get_data(data_link)\n",
    "    captionTracks, title = get_tracks_title(data)\n",
    "    \n",
    "    info = partial(print, \"INFO: \")\n",
    "    \n",
    "    info(\"Available caption(s)(✔ marks chosen one, given by --caption_num in 0-index, default to 0):\")\n",
    "    \n",
    "    for i, caption in enumerate(captionTracks):\n",
    "        mark = '✔' if caption_num == i else '⭕'\n",
    "        notice = f\"{mark}\"\n",
    "        info(notice, f\"#{i}.\", format_caption(caption))\n",
    "        \n",
    "    caption = captionTracks[caption_num]\n",
    "#     info('using',f\"{caption_num}.\", format_caption(caption))\n",
    "    \n",
    "    baseUrl = caption['baseUrl']\n",
    "    transcript = requests.get(baseUrl)\n",
    "    subtitle = parseTranscript(transcript)\n",
    "    \n",
    "    if translation:\n",
    "        baseUrl = caption['baseUrl'] + '&tlang=' + translation\n",
    "        transcript = requests.get(baseUrl)\n",
    "        subtitle_cn = parseTranscript(transcript)\n",
    "        subtitle = merge_subtitle(subtitle, subtitle_cn)\n",
    "            \n",
    "    f = sys.stdout\n",
    "    if save_to_file :\n",
    "        if output_file is None: \n",
    "            if to_json:\n",
    "                output_file = get_valid_filename(f'{title}.json')\n",
    "            else:\n",
    "                output_file = get_valid_filename(f'{title}.txt')\n",
    "        f = open(output_file , 'w', encoding='UTF-8')\n",
    "        info(\"Save to \", output_file )\n",
    "    \n",
    "    if to_json:\n",
    "        json.dump(subtitle, f, indent=4, ensure_ascii=False)\n",
    "        return \n",
    "        \n",
    "    pfile = partial(print, file=f)\n",
    "    pfile(video_link, file=f)\n",
    "    for sent in subtitle:\n",
    "        each_sent(sent, file=f)\n",
    "        pfile()\n",
    "\n"
   ]
  },
  {
   "cell_type": "code",
   "execution_count": 14,
   "metadata": {
    "ExecuteTime": {
     "end_time": "2020-03-20T06:52:35.393768Z",
     "start_time": "2020-03-20T06:52:35.380776Z"
    }
   },
   "outputs": [],
   "source": [
    "#export\n",
    "from functools import partial\n",
    "def set_fire(fn):\n",
    "    if common.IN_TRAVIS or common.IN_JUPYTER:\n",
    "        return \n",
    "    fire.Fire(fn)\n",
    "if __name__ == '__main__':\n",
    "    if common.IN_TRAVIS or common.IN_JUPYTER:\n",
    "        pass\n",
    "    else :\n",
    "        set_fire(main)\n",
    "fire_main = partial(set_fire, main)"
   ]
  },
  {
   "cell_type": "code",
   "execution_count": null,
   "metadata": {
    "ExecuteTime": {
     "start_time": "2020-03-20T07:06:42.406Z"
    }
   },
   "outputs": [
    {
     "data": {
      "application/javascript": [
       "IPython.notebook.save_checkpoint();"
      ],
      "text/plain": [
       "<IPython.core.display.Javascript object>"
      ]
     },
     "metadata": {},
     "output_type": "display_data"
    },
    {
     "name": "stdout",
     "output_type": "stream",
     "text": [
      "Converted main.ipynb to ..\\download_youtube_subtitle\\main.py\n",
      "Converted main.ipynb to ..\\tests\\test_main.py\n"
     ]
    }
   ],
   "source": [
    "common.save_and_export_notebook('main')"
   ]
  },
  {
   "cell_type": "code",
   "execution_count": 26,
   "metadata": {
    "ExecuteTime": {
     "end_time": "2020-03-20T07:05:33.894267Z",
     "start_time": "2020-03-20T07:05:22.195811Z"
    }
   },
   "outputs": [
    {
     "name": "stdout",
     "output_type": "stream",
     "text": [
      "INFO:  Available caption(s)(✔ marks chosen one, given by --caption_num in 0-index, default to 0):\n",
      "INFO:  ⭕ #0. a.en     Английский+(создано+автоматически) automatically generated by youtube\n",
      "INFO:  ✔ #1. .en-US   Английский+(Соединенные+Штаты)\n",
      "INFO:  Save to  QuarantineDispatchTrumpGetsSeriousu0026NYCShutsDownTheDailyShow.txt\n"
     ]
    }
   ],
   "source": [
    "#test_export\n",
    "main('https://www.youtube.com/watch?v=EozTm6ZVf1U', caption_num=1)"
   ]
  },
  {
   "cell_type": "code",
   "execution_count": 17,
   "metadata": {
    "ExecuteTime": {
     "end_time": "2020-03-20T06:52:59.800398Z",
     "start_time": "2020-03-20T06:52:47.703364Z"
    }
   },
   "outputs": [
    {
     "name": "stdout",
     "output_type": "stream",
     "text": [
      "INFO:  Available caption(s)(✔ marks chosen one, given by --caption_num in 0-index, default to 0):\n",
      "INFO:  ✔ #0. .en      Английский\n",
      "INFO:  ⭕ #1. a.en     Английский+(создано+автоматически)\n",
      "INFO:  Save to  DontLoseYourAccentLearningAccents-TREVORNOAHPayBackTheFunny.txt\n"
     ]
    }
   ],
   "source": [
    "#test_export\n",
    "main('MhCEdIqFCck') # fix title with quotes \""
   ]
  },
  {
   "cell_type": "code",
   "execution_count": 18,
   "metadata": {
    "ExecuteTime": {
     "end_time": "2020-03-20T06:53:10.921350Z",
     "start_time": "2020-03-20T06:52:59.804396Z"
    }
   },
   "outputs": [
    {
     "name": "stdout",
     "output_type": "stream",
     "text": [
      "INFO:  Available caption(s)(✔ marks chosen one, given by --caption_num in 0-index, default to 0):\n",
      "INFO:  ✔ #0. a.en     Английский+(создано+автоматически)\n",
      "INFO:  Save to  SilentVoiceKoenoKatachiYamadaandtheUnspoken.txt\n"
     ]
    }
   ],
   "source": [
    "#test_export\n",
    "main('HSz7Q4YnQ_M') # fix when cc's length and translated cc's don't match"
   ]
  }
 ],
 "metadata": {
  "kernelspec": {
   "display_name": "Python 3",
   "language": "python",
   "name": "python3"
  },
  "language_info": {
   "codemirror_mode": {
    "name": "ipython",
    "version": 3
   },
   "file_extension": ".py",
   "mimetype": "text/x-python",
   "name": "python",
   "nbconvert_exporter": "python",
   "pygments_lexer": "ipython3",
   "version": "3.7.4"
  }
 },
 "nbformat": 4,
 "nbformat_minor": 2
}
