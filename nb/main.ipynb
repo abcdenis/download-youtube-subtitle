{
 "cells": [
  {
   "cell_type": "code",
   "execution_count": 15,
   "metadata": {
    "ExecuteTime": {
     "end_time": "2020-03-17T01:52:25.324273Z",
     "start_time": "2020-03-17T01:52:24.581114Z"
    }
   },
   "outputs": [],
   "source": [
    "#export\n",
    "import sys\n",
    "if __name__ == '__main__': sys.path.append('..')\n",
    "import download_youtube_subtitle.common as common\n",
    "from pprint import pprint\n",
    "def pj(*args, **kargs):\n",
    "    if common.IN_JUPYTER:\n",
    "        pprint(*args, **kargs)\n",
    "        \n",
    "from functools import partial\n",
    "import sys\n",
    "\n",
    "perr = partial(print, \"ERR: \")"
   ]
  },
  {
   "cell_type": "code",
   "execution_count": 16,
   "metadata": {
    "ExecuteTime": {
     "end_time": "2020-03-17T01:52:25.370258Z",
     "start_time": "2020-03-17T01:52:25.328262Z"
    }
   },
   "outputs": [],
   "source": [
    "#export\n",
    "import requests\n",
    "import socket\n",
    "socket.setdefaulttimeout(5.)"
   ]
  },
  {
   "cell_type": "code",
   "execution_count": 17,
   "metadata": {
    "ExecuteTime": {
     "end_time": "2020-03-17T01:52:25.879106Z",
     "start_time": "2020-03-17T01:52:25.869111Z"
    }
   },
   "outputs": [],
   "source": [
    "#export\n",
    "# dealing with xml.dom\n",
    "def getVal(dom, key):\n",
    "    att = dom.attributes[key]\n",
    "    return att.value\n",
    "\n",
    "def eachTxt(txt):\n",
    "    start = getVal(txt, 'start')\n",
    "    dur = getVal(txt, 'dur')\n",
    "    txt = html.unescape((txt.firstChild.data))\n",
    "    return {\n",
    "        \"start\":start, \n",
    "        \"dur\": dur,\n",
    "        \"text\": txt\n",
    "    }"
   ]
  },
  {
   "cell_type": "code",
   "execution_count": 18,
   "metadata": {
    "ExecuteTime": {
     "end_time": "2020-03-17T01:52:26.320613Z",
     "start_time": "2020-03-17T01:52:26.302623Z"
    }
   },
   "outputs": [],
   "source": [
    "#export\n",
    "# todo \n",
    "# add tlang=zh-Hans to baseUrl\n",
    "# will get translation\n",
    "\n",
    "# getting track info\n",
    "\n",
    "def get_data(link):\n",
    "    data = requests.get(link)\n",
    "    data = data.text\n",
    "    return data\n",
    "\n",
    "import re\n",
    "import json\n",
    "import urllib\n",
    "def get_tracks_title(data):\n",
    "    decodedData = urllib.parse.unquote(data)\n",
    "    if 'captionTracks' not in decodedData:\n",
    "        perr(\"no caption available. ;(\")\n",
    "        exit(1)\n",
    "    match = re.search(r'({\"captionTracks\":.*isTranslatable\":(true|false)}])', decodedData)\n",
    "    match = match.group(1)\n",
    "    match = f\"{match}}}\"\n",
    "    captionTracks =  json.loads(match)['captionTracks']\n",
    "    match = re.search(r'title\":\"(.*?)\"', decodedData)\n",
    "    title = match.group(1)\n",
    "    return captionTracks, title"
   ]
  },
  {
   "cell_type": "code",
   "execution_count": 19,
   "metadata": {
    "ExecuteTime": {
     "end_time": "2020-03-17T01:52:26.957009Z",
     "start_time": "2020-03-17T01:52:26.932022Z"
    }
   },
   "outputs": [],
   "source": [
    "#export\n",
    "# dealing with transcript\n",
    "import math\n",
    "from functools import partial\n",
    "import sys\n",
    "from xml.dom.minidom import parseString\n",
    "import html\n",
    "def parseTranscript(transcript):\n",
    "    try:\n",
    "        dom = parseString(transcript.text)\n",
    "    except :\n",
    "        perr(\"check your lang code\")\n",
    "        perr(\"server response\")\n",
    "        perr(transcript.text)\n",
    "        exit(1)\n",
    "    texts = dom.getElementsByTagName('text')\n",
    "    texts = list(map( eachTxt, texts,))\n",
    "    return texts \n",
    "\n",
    "def each_sent(o, file=sys.stdout):\n",
    "    start = o['start']\n",
    "    start = float(start)\n",
    "    minute = math.floor(start/60)\n",
    "    second = math.floor(start%60)\n",
    "    p = partial(print, file=file)\n",
    "    p(f\"---------{minute:02d}:{second:02d}----------\")\n",
    "    p(o['text'])\n",
    "    translate_text = o.get('translate_text', None)\n",
    "    if translate_text:\n",
    "        p(translate_text)\n",
    "   "
   ]
  },
  {
   "cell_type": "code",
   "execution_count": 20,
   "metadata": {
    "ExecuteTime": {
     "end_time": "2020-03-17T01:52:27.638483Z",
     "start_time": "2020-03-17T01:52:27.628493Z"
    }
   },
   "outputs": [],
   "source": [
    "#export\n",
    "# dealing with valid filename\n",
    "# https://github.com/django/django/blob/master/django/utils/text.py\n",
    "import re\n",
    "def get_valid_filename(s):\n",
    "    \"\"\"\n",
    "    Return the given string converted to a string that can be used for a clean\n",
    "    filename. Remove leading and trailing spaces; convert other spaces to\n",
    "    underscores; and remove anything that is not an alphanumeric, dash,\n",
    "    underscore, or dot.\n",
    "    >>> get_valid_filename(\"john's portrait in 2004.jpg\")\n",
    "    'johns_portrait_in_2004.jpg'\n",
    "    \"\"\"\n",
    "    s = str(s).strip().replace(' ', '_')\n",
    "    return re.sub(r'(?u)[^-\\w.]', '', s)"
   ]
  },
  {
   "cell_type": "code",
   "execution_count": 21,
   "metadata": {
    "ExecuteTime": {
     "end_time": "2020-03-17T01:52:40.560683Z",
     "start_time": "2020-03-17T01:52:28.691064Z"
    }
   },
   "outputs": [],
   "source": [
    "#test_export\n",
    "videoID='5tKOV0KqPlg'\n",
    "data_link=f\"https://youtube.com/get_video_info?video_id={videoID}\"\n",
    "data=get_data(data_link)\n",
    "captionTracks, title = get_tracks_title(data)\n",
    "baseUrl = captionTracks[0]['baseUrl']\n",
    "transcript = requests.get(baseUrl)\n",
    "subtitle = parseTranscript(transcript)\n",
    "# baseUrl = captionTracks[0]['baseUrl'] + '&tlang=zh-Hans'\n",
    "baseUrl = captionTracks[0]['baseUrl'] + '&tlang=ja'\n",
    "# baseUrl = captionTracks[0]['baseUrl'] + '&tlang=jp' # wrong lang code\n",
    "transcript = requests.get(baseUrl)\n",
    "subtitle_cn = parseTranscript(transcript)\n",
    "for sub, cn in zip(subtitle, subtitle_cn):\n",
    "    sub['translate_text'] = cn['text']"
   ]
  },
  {
   "cell_type": "code",
   "execution_count": 22,
   "metadata": {
    "ExecuteTime": {
     "end_time": "2020-03-17T01:52:40.582610Z",
     "start_time": "2020-03-17T01:52:40.563623Z"
    }
   },
   "outputs": [
    {
     "name": "stdout",
     "output_type": "stream",
     "text": [
      "save to  HowSouthAfricaCouldPreparetheU.S.forPresidentTrumpTheDailyShow.txt\n"
     ]
    }
   ],
   "source": [
    "#test_export\n",
    "output_file = get_valid_filename(f'{title}.txt')\n",
    "with open(output_file , 'w', encoding='UTF-8') as f:\n",
    "    print(\"save to \", output_file)\n",
    "    for sent in subtitle:\n",
    "        each_sent(sent, file=f)\n"
   ]
  },
  {
   "cell_type": "code",
   "execution_count": 24,
   "metadata": {
    "ExecuteTime": {
     "end_time": "2020-03-17T01:53:33.330164Z",
     "start_time": "2020-03-17T01:53:33.301196Z"
    }
   },
   "outputs": [],
   "source": [
    "import json\n",
    "decodedData = urllib.parse.unquote(data)\n",
    "match = re.search(r'translationLanguages\":', decodedData)\n",
    "match2 = re.search(r'defaultAudioTrackIndex', decodedData)\n",
    "lang_code = decodedData[match.span()[1] : match2.span()[0]-2]\n",
    "lang_code =  json.loads(lang_code)\n",
    "with open('../lang_code.json', 'w', encoding='UTF-8') as f:\n",
    "    json.dump(lang_code, f, indent=4, ensure_ascii=False)"
   ]
  },
  {
   "cell_type": "code",
   "execution_count": 139,
   "metadata": {
    "ExecuteTime": {
     "end_time": "2020-03-16T12:42:49.395556Z",
     "start_time": "2020-03-16T12:42:49.385582Z"
    }
   },
   "outputs": [],
   "source": [
    "#export\n",
    "def parseVideoID(videoID):\n",
    "    if 'youtu' in videoID:\n",
    "        videoID = re.search('v=([^&]+)', videoID).group(1)\n",
    "        \n",
    "    video_link = f'https://www.youtube.com/watch?v={videoID}'\n",
    "    data_link=f\"https://youtube.com/get_video_info?video_id={videoID}\"\n",
    "    return videoID, video_link, data_link"
   ]
  },
  {
   "cell_type": "code",
   "execution_count": 140,
   "metadata": {
    "ExecuteTime": {
     "end_time": "2020-03-16T12:42:50.225908Z",
     "start_time": "2020-03-16T12:42:50.221909Z"
    }
   },
   "outputs": [],
   "source": [
    "#test_export\n",
    "videoID = 'https://www.youtube.com/watch?v=5tKOV0KqPlg'\n",
    "videoID, video_link, data_link = parseVideoID(videoID)\n",
    "videoID = '5tKOV0KqPlg'\n",
    "assert (videoID, video_link, data_link) == parseVideoID(videoID)"
   ]
  },
  {
   "cell_type": "code",
   "execution_count": 136,
   "metadata": {
    "ExecuteTime": {
     "end_time": "2020-03-16T12:41:48.078663Z",
     "start_time": "2020-03-16T12:41:47.789494Z"
    }
   },
   "outputs": [],
   "source": [
    "#export\n",
    "import fire\n",
    "import sys\n",
    "from functools import partial\n",
    "import json\n",
    "import re\n",
    "def main(videoID, output_file=None, save_to_file=True, translation='zh-Hans', to_json=False):\n",
    "    \"\"\"\n",
    "    download youtube closed caption(subtitles) by videoID\n",
    "    \n",
    "    Examples:\n",
    "    dl-youtube-cc 5tKOV0KqPlg --save_to_file=False # print stuff in console\n",
    "    dl-youtube-cc 5tKOV0KqPlg --output_file='test.txt' # print stuff in named file\n",
    "    dl-youtube-cc 5tKOV0KqPlg --to_json=True # print stuff in json\n",
    "    dl-youtube-cc 5tKOV0KqPlg --translation 'ja' # print stuff in named file\n",
    "    dl-youtube-cc 5tKOV0KqPlg --translation False # without translation\n",
    "    \n",
    "    Argument:\n",
    "    videoID: string, the id of youtube video, the string after 'v=' in a youtube video link\n",
    "    output_file: string, default to vidio title\n",
    "    save_to_file: bool, default to True, True or False \n",
    "    translation: bool or string, default to 'zh-Hans' for simplified Chinese, False or lang code, see ./lang_code.json for full list\n",
    "    to_json: bool, default to False, export caption to json\n",
    "    \n",
    "    \"\"\"\n",
    "    \n",
    "    videoID, video_link, data_link = parseVideoID(videoID)\n",
    "    data=get_data(data_link)\n",
    "    captionTracks, title = get_tracks_title(data)\n",
    "    \n",
    "    info = partial(print, \"INFO: \")\n",
    "    \n",
    "    info(\"available caption(s) are\")\n",
    "    \n",
    "    for caption in captionTracks:\n",
    "        info(caption['name']['simpleText'], '')\n",
    "        \n",
    "    info('using',captionTracks[0]['name']['simpleText'] )\n",
    "    \n",
    "    baseUrl = captionTracks[0]['baseUrl']\n",
    "    transcript = requests.get(baseUrl)\n",
    "    subtitle = parseTranscript(transcript)\n",
    "    \n",
    "    if translation:\n",
    "        baseUrl = captionTracks[0]['baseUrl'] + '&tlang=' + translation\n",
    "        transcript = requests.get(baseUrl)\n",
    "        subtitle_cn = parseTranscript(transcript)\n",
    "        for sub, cn in zip(subtitle, subtitle_cn):\n",
    "            sub['translate_text'] = cn['text']\n",
    "            \n",
    "    f = sys.stdout\n",
    "    if save_to_file :\n",
    "        if output_file is None: \n",
    "            if to_json:\n",
    "                output_file = get_valid_filename(f'{title}.json')\n",
    "            else:\n",
    "                output_file = get_valid_filename(f'{title}.txt')\n",
    "        f = open(output_file , 'w', encoding='UTF-8')\n",
    "        info(\"save to \", output_file )\n",
    "    \n",
    "    if to_json:\n",
    "        json.dump(subtitle, f, indent=4, ensure_ascii=False)\n",
    "        return \n",
    "        \n",
    "    pfile = partial(print, file=f)\n",
    "    pfile(video_link, file=f)\n",
    "    for sent in subtitle:\n",
    "        each_sent(sent, file=f)\n",
    "        pfile()\n",
    "\n"
   ]
  },
  {
   "cell_type": "code",
   "execution_count": 137,
   "metadata": {
    "ExecuteTime": {
     "end_time": "2020-03-16T12:41:48.333306Z",
     "start_time": "2020-03-16T12:41:48.323312Z"
    }
   },
   "outputs": [],
   "source": [
    "#export\n",
    "from functools import partial\n",
    "def set_fire(fn):\n",
    "    if common.IN_TRAVIS or common.IN_JUPYTER:\n",
    "        return \n",
    "    fire.Fire(fn)\n",
    "if __name__ == '__main__':\n",
    "    if common.IN_TRAVIS or common.IN_JUPYTER:\n",
    "        pass\n",
    "    else :\n",
    "        set_fire(main)\n",
    "fire_main = partial(set_fire, main)"
   ]
  },
  {
   "cell_type": "code",
   "execution_count": null,
   "metadata": {
    "ExecuteTime": {
     "start_time": "2020-03-16T12:42:57.016Z"
    }
   },
   "outputs": [
    {
     "data": {
      "application/javascript": [
       "IPython.notebook.save_checkpoint();"
      ],
      "text/plain": [
       "<IPython.core.display.Javascript object>"
      ]
     },
     "metadata": {},
     "output_type": "display_data"
    },
    {
     "name": "stdout",
     "output_type": "stream",
     "text": [
      "Converted main.ipynb to ..\\download_youtube_subtitle\\main.py\n",
      "Converted main.ipynb to ..\\tests\\test_main.py\n"
     ]
    }
   ],
   "source": [
    "common.save_and_export_notebook('main')"
   ]
  },
  {
   "cell_type": "code",
   "execution_count": null,
   "metadata": {},
   "outputs": [],
   "source": []
  }
 ],
 "metadata": {
  "kernelspec": {
   "display_name": "Python 3",
   "language": "python",
   "name": "python3"
  },
  "language_info": {
   "codemirror_mode": {
    "name": "ipython",
    "version": 3
   },
   "file_extension": ".py",
   "mimetype": "text/x-python",
   "name": "python",
   "nbconvert_exporter": "python",
   "pygments_lexer": "ipython3",
   "version": "3.7.4"
  }
 },
 "nbformat": 4,
 "nbformat_minor": 2
}
