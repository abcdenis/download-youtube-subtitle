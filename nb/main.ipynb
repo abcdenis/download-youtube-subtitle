{
 "cells": [
  {
   "cell_type": "code",
   "execution_count": 44,
   "metadata": {
    "ExecuteTime": {
     "end_time": "2020-03-16T08:04:48.515589Z",
     "start_time": "2020-03-16T08:04:48.507596Z"
    }
   },
   "outputs": [],
   "source": [
    "#export\n",
    "import sys\n",
    "if __name__ == '__main__': sys.path.append('..')\n",
    "import download_youtube_subtitle.common as common\n",
    "from pprint import pprint\n",
    "def pj(*args, **kargs):\n",
    "    if common.IN_JUPYTER:\n",
    "        pprint(*args, **kargs)\n",
    "        \n",
    "from functools import partial\n",
    "import sys\n",
    "\n",
    "perr = partial(print, \"ERR: \")"
   ]
  },
  {
   "cell_type": "code",
   "execution_count": 2,
   "metadata": {
    "ExecuteTime": {
     "end_time": "2020-03-16T07:21:05.477124Z",
     "start_time": "2020-03-16T07:21:05.139399Z"
    }
   },
   "outputs": [],
   "source": [
    "#export\n",
    "import requests\n",
    "import socket\n",
    "socket.setdefaulttimeout(5.)"
   ]
  },
  {
   "cell_type": "code",
   "execution_count": 3,
   "metadata": {
    "ExecuteTime": {
     "end_time": "2020-03-16T07:21:05.487118Z",
     "start_time": "2020-03-16T07:21:05.480125Z"
    }
   },
   "outputs": [],
   "source": [
    "#export\n",
    "# dealing with xml.dom\n",
    "def getVal(dom, key):\n",
    "    att = dom.attributes[key]\n",
    "    return att.value\n",
    "\n",
    "def eachTxt(txt):\n",
    "    start = getVal(txt, 'start')\n",
    "    dur = getVal(txt, 'dur')\n",
    "    txt = html.unescape((txt.firstChild.data))\n",
    "    return {\n",
    "        \"start\":start, \n",
    "        \"dur\": dur,\n",
    "        \"text\": txt\n",
    "    }"
   ]
  },
  {
   "cell_type": "code",
   "execution_count": 4,
   "metadata": {
    "ExecuteTime": {
     "end_time": "2020-03-16T07:21:05.507297Z",
     "start_time": "2020-03-16T07:21:05.490116Z"
    }
   },
   "outputs": [],
   "source": [
    "#export\n",
    "# todo \n",
    "# add tlang=zh-Hans to baseUrl\n",
    "# will get translation\n",
    "\n",
    "# getting track info\n",
    "\n",
    "def get_data(link):\n",
    "    data = requests.get(link)\n",
    "    data = data.text\n",
    "    return data\n",
    "\n",
    "import re\n",
    "import json\n",
    "import urllib\n",
    "def get_tracks_title(data):\n",
    "    decodedData = urllib.parse.unquote(data)\n",
    "    if 'captionTracks' not in decodedData:\n",
    "        perr(\"no caption available. ;(\")\n",
    "        exit(1)\n",
    "    match = re.search(r'({\"captionTracks\":.*isTranslatable\":(true|false)}])', decodedData)\n",
    "    match = match.group(1)\n",
    "    match = f\"{match}}}\"\n",
    "    captionTracks =  json.loads(match)['captionTracks']\n",
    "    match = re.search(r'title\":\"(.*?)\"', decodedData)\n",
    "    title = match.group(1)\n",
    "    return captionTracks, title"
   ]
  },
  {
   "cell_type": "code",
   "execution_count": 97,
   "metadata": {
    "ExecuteTime": {
     "end_time": "2020-03-16T08:41:44.392845Z",
     "start_time": "2020-03-16T08:41:44.378874Z"
    }
   },
   "outputs": [],
   "source": [
    "#export\n",
    "# dealing with transcript\n",
    "import math\n",
    "from functools import partial\n",
    "import sys\n",
    "from xml.dom.minidom import parseString\n",
    "import html\n",
    "def parseTranscript(transcript):\n",
    "    try:\n",
    "        dom = parseString(transcript.text)\n",
    "    except :\n",
    "        perr(\"check your lang code\")\n",
    "        perr(\"server response\")\n",
    "        perr(transcript.text)\n",
    "        exit(1)\n",
    "    texts = dom.getElementsByTagName('text')\n",
    "    texts = list(map( eachTxt, texts,))\n",
    "    return texts \n",
    "\n",
    "def each_sent(o, file=sys.stdout):\n",
    "    start = o['start']\n",
    "    start = float(start)\n",
    "    minute = math.floor(start/60)\n",
    "    second = math.floor(start%60)\n",
    "    p = partial(print, file=file)\n",
    "    p(f\"---------{minute:02d}:{second:02d}----------\")\n",
    "    p(o['text'])\n",
    "    translate_text = o.get('translate_text', None)\n",
    "    if translate_text:\n",
    "        p(translate_text)\n",
    "   "
   ]
  },
  {
   "cell_type": "code",
   "execution_count": 98,
   "metadata": {
    "ExecuteTime": {
     "end_time": "2020-03-16T08:41:45.214389Z",
     "start_time": "2020-03-16T08:41:45.209388Z"
    }
   },
   "outputs": [],
   "source": [
    "#export\n",
    "# dealing with valid filename\n",
    "# https://github.com/django/django/blob/master/django/utils/text.py\n",
    "import re\n",
    "def get_valid_filename(s):\n",
    "    \"\"\"\n",
    "    Return the given string converted to a string that can be used for a clean\n",
    "    filename. Remove leading and trailing spaces; convert other spaces to\n",
    "    underscores; and remove anything that is not an alphanumeric, dash,\n",
    "    underscore, or dot.\n",
    "    >>> get_valid_filename(\"john's portrait in 2004.jpg\")\n",
    "    'johns_portrait_in_2004.jpg'\n",
    "    \"\"\"\n",
    "    s = str(s).strip().replace(' ', '_')\n",
    "    return re.sub(r'(?u)[^-\\w.]', '', s)"
   ]
  },
  {
   "cell_type": "code",
   "execution_count": 100,
   "metadata": {
    "ExecuteTime": {
     "end_time": "2020-03-16T08:42:26.370641Z",
     "start_time": "2020-03-16T08:42:14.208484Z"
    }
   },
   "outputs": [],
   "source": [
    "#test_export\n",
    "videoID='5tKOV0KqPlg'\n",
    "data_link=f\"https://youtube.com/get_video_info?video_id={videoID}\"\n",
    "data=get_data(data_link)\n",
    "captionTracks, title = get_tracks_title(data)\n",
    "baseUrl = captionTracks[0]['baseUrl']\n",
    "transcript = requests.get(baseUrl)\n",
    "subtitle = parseTranscript(transcript)\n",
    "# baseUrl = captionTracks[0]['baseUrl'] + '&tlang=zh-Hans'\n",
    "baseUrl = captionTracks[0]['baseUrl'] + '&tlang=ja'\n",
    "# baseUrl = captionTracks[0]['baseUrl'] + '&tlang=jp' # wrong lang code\n",
    "transcript = requests.get(baseUrl)\n",
    "subtitle_cn = parseTranscript(transcript)\n",
    "for sub, cn in zip(subtitle, subtitle_cn):\n",
    "    sub['translate_text'] = cn['text']"
   ]
  },
  {
   "cell_type": "code",
   "execution_count": 10,
   "metadata": {
    "ExecuteTime": {
     "end_time": "2020-03-16T07:21:45.554741Z",
     "start_time": "2020-03-16T07:21:45.539749Z"
    }
   },
   "outputs": [
    {
     "name": "stdout",
     "output_type": "stream",
     "text": [
      "save to  HowSouthAfricaCouldPreparetheU.S.forPresidentTrumpTheDailyShow.txt\n"
     ]
    }
   ],
   "source": [
    "#test_export\n",
    "output_file = get_valid_filename(f'{title}.txt')\n",
    "with open(output_file , 'w', encoding='UTF-8') as f:\n",
    "    print(\"save to \", output_file)\n",
    "    for sent in subtitle:\n",
    "        each_sent(sent, file=f)\n"
   ]
  },
  {
   "cell_type": "code",
   "execution_count": 76,
   "metadata": {
    "ExecuteTime": {
     "end_time": "2020-03-16T08:12:14.593237Z",
     "start_time": "2020-03-16T08:12:14.566256Z"
    },
    "deletable": false,
    "editable": false,
    "run_control": {
     "frozen": true
    }
   },
   "outputs": [],
   "source": [
    "import json\n",
    "from pprint import pprint\n",
    "decodedData = urllib.parse.unquote(data)\n",
    "match = re.search(r'translationLanguages\":', decodedData)\n",
    "match2 = re.search(r'defaultAudioTrackIndex', decodedData)\n",
    "lang_code = decodedData[match.span()[1] : match2.span()[0]-2]\n",
    "lang_code =  json.loads(lang_code)\n",
    "with open('../lang_code.json', 'w', encoding='UTF-8') as f:\n",
    "    pprint(lang_code, stream=f)"
   ]
  },
  {
   "cell_type": "code",
   "execution_count": 84,
   "metadata": {
    "ExecuteTime": {
     "end_time": "2020-03-16T08:24:11.801154Z",
     "start_time": "2020-03-16T08:24:11.782168Z"
    }
   },
   "outputs": [],
   "source": [
    "#export\n",
    "import fire\n",
    "import sys\n",
    "from functools import partial\n",
    "import json\n",
    "def main(videoID, output_file=None, save_to_file=True, translation='zh-Hans', to_json=False):\n",
    "    \"\"\"\n",
    "    download youtube closed caption(subtitles) by videoID\n",
    "    \n",
    "    Examples:\n",
    "    dl-youtube-cc 5tKOV0KqPlg --save_to_file=False # print stuff in console\n",
    "    dl-youtube-cc 5tKOV0KqPlg --output_file='test.txt' # print stuff in named file\n",
    "    dl-youtube-cc 5tKOV0KqPlg --to_json=True # print stuff in json\n",
    "    dl-youtube-cc 5tKOV0KqPlg --translation 'ja' # print stuff in named file\n",
    "    dl-youtube-cc 5tKOV0KqPlg --translation False # without translation\n",
    "    \n",
    "    Argument:\n",
    "    videoID: string, the id of youtube video, the string after 'v=' in a youtube video link\n",
    "    output_file: string, default to vidio title\n",
    "    save_to_file: bool, default to True, True or False \n",
    "    translation: bool or string, default to 'zh-Hans' for simplified Chinese, False or lang code, see ./lang_code.json for full list\n",
    "    to_json: bool, default to False, export caption to json\n",
    "    \n",
    "    \"\"\"\n",
    "    if 'youtu' in videoID:\n",
    "        data_link = videoID\n",
    "    else :\n",
    "        data_link=f\"https://youtube.com/get_video_info?video_id={videoID}\"\n",
    "    data=get_data(data_link)\n",
    "    captionTracks, title = get_tracks_title(data)\n",
    "    \n",
    "    info = partial(print, \"INFO: \")\n",
    "    \n",
    "    for caption in captionTracks:\n",
    "        info(caption['name']['simpleText'], 'available')\n",
    "        \n",
    "    info('using',captionTracks[0]['name']['simpleText'] )\n",
    "    \n",
    "    baseUrl = captionTracks[0]['baseUrl']\n",
    "    transcript = requests.get(baseUrl)\n",
    "    subtitle = parseTranscript(transcript)\n",
    "    \n",
    "    if translation:\n",
    "        baseUrl = captionTracks[0]['baseUrl'] + '&tlang=' + translation\n",
    "        transcript = requests.get(baseUrl)\n",
    "        subtitle_cn = parseTranscript(transcript)\n",
    "        for sub, cn in zip(subtitle, subtitle_cn):\n",
    "            sub['translate_text'] = cn['text']\n",
    "            \n",
    "    f = sys.stdout\n",
    "    if save_to_file :\n",
    "        if output_file is None: \n",
    "            if to_json:\n",
    "                output_file = get_valid_filename(f'{title}.json')\n",
    "            else:\n",
    "                output_file = get_valid_filename(f'{title}.txt')\n",
    "        f = open(output_file , 'w', encoding='UTF-8')\n",
    "        info(\"save to \", output_file )\n",
    "    \n",
    "    if to_json:\n",
    "        json.dump(subtitle, f, indent=4, ensure_ascii=False)\n",
    "        return \n",
    "        \n",
    "    pfile = partial(print, file=f)\n",
    "    pfile(data_link, file=f)\n",
    "    for sent in subtitle:\n",
    "        each_sent(sent, file=f)\n",
    "        pfile()\n",
    "\n"
   ]
  },
  {
   "cell_type": "code",
   "execution_count": 105,
   "metadata": {
    "ExecuteTime": {
     "end_time": "2020-03-16T09:26:03.414471Z",
     "start_time": "2020-03-16T09:26:03.404496Z"
    }
   },
   "outputs": [],
   "source": [
    "#export\n",
    "from functools import partial\n",
    "def set_fire(fn):\n",
    "    if common.IN_TRAVIS or common.IN_JUPYTER:\n",
    "        return \n",
    "    fire.Fire(fn)\n",
    "if __name__ == '__main__':\n",
    "    if common.IN_TRAVIS or common.IN_JUPYTER:\n",
    "        pass\n",
    "    else :\n",
    "        set_fire(main)\n",
    "fire_main = partial(set_fire, main)"
   ]
  },
  {
   "cell_type": "code",
   "execution_count": null,
   "metadata": {
    "ExecuteTime": {
     "start_time": "2020-03-16T09:41:18.423Z"
    }
   },
   "outputs": [
    {
     "data": {
      "application/javascript": [
       "IPython.notebook.save_checkpoint();"
      ],
      "text/plain": [
       "<IPython.core.display.Javascript object>"
      ]
     },
     "metadata": {},
     "output_type": "display_data"
    },
    {
     "name": "stdout",
     "output_type": "stream",
     "text": [
      "Converted main.ipynb to ..\\download_youtube_subtitle\\main.py\n",
      "Converted main.ipynb to ..\\tests\\test_main.py\n"
     ]
    }
   ],
   "source": [
    "common.save_and_export_notebook('main')"
   ]
  },
  {
   "cell_type": "code",
   "execution_count": null,
   "metadata": {},
   "outputs": [],
   "source": []
  }
 ],
 "metadata": {
  "kernelspec": {
   "display_name": "Python 3",
   "language": "python",
   "name": "python3"
  },
  "language_info": {
   "codemirror_mode": {
    "name": "ipython",
    "version": 3
   },
   "file_extension": ".py",
   "mimetype": "text/x-python",
   "name": "python",
   "nbconvert_exporter": "python",
   "pygments_lexer": "ipython3",
   "version": "3.7.4"
  }
 },
 "nbformat": 4,
 "nbformat_minor": 2
}
